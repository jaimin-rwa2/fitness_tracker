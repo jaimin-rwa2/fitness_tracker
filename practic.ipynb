{
 "cells": [
  {
   "cell_type": "code",
   "execution_count": 1,
   "id": "f081d443",
   "metadata": {},
   "outputs": [],
   "source": [
    "from fitness_tracker import FitnessTracker\n",
    "import pandas as pd"
   ]
  },
  {
   "cell_type": "code",
   "execution_count": 2,
   "id": "40e8d1e1",
   "metadata": {},
   "outputs": [
    {
     "name": "stdout",
     "output_type": "stream",
     "text": [
      "Welcome to the Fitness Tracker!\n"
     ]
    }
   ],
   "source": [
    "print(\"Welcome to the Fitness Tracker!\")\n",
    "username = input(\"Enter your username: \")\n",
    "tracker = FitnessTracker(username)"
   ]
  },
  {
   "cell_type": "code",
   "execution_count": 6,
   "id": "9fc88286",
   "metadata": {},
   "outputs": [
    {
     "data": {
      "text/html": [
       "<div>\n",
       "<style scoped>\n",
       "    .dataframe tbody tr th:only-of-type {\n",
       "        vertical-align: middle;\n",
       "    }\n",
       "\n",
       "    .dataframe tbody tr th {\n",
       "        vertical-align: top;\n",
       "    }\n",
       "\n",
       "    .dataframe thead th {\n",
       "        text-align: right;\n",
       "    }\n",
       "</style>\n",
       "<table border=\"1\" class=\"dataframe\">\n",
       "  <thead>\n",
       "    <tr style=\"text-align: right;\">\n",
       "      <th></th>\n",
       "      <th>Activity</th>\n",
       "      <th>Duration</th>\n",
       "      <th>Calories</th>\n",
       "      <th>Date</th>\n",
       "      <th>Distance</th>\n",
       "    </tr>\n",
       "  </thead>\n",
       "  <tbody>\n",
       "    <tr>\n",
       "      <th>0</th>\n",
       "      <td>Running</td>\n",
       "      <td>10</td>\n",
       "      <td>75</td>\n",
       "      <td>2025-08-20</td>\n",
       "      <td>1.2</td>\n",
       "    </tr>\n",
       "    <tr>\n",
       "      <th>1</th>\n",
       "      <td>Running</td>\n",
       "      <td>10</td>\n",
       "      <td>75</td>\n",
       "      <td>2025-08-20</td>\n",
       "      <td>1.2</td>\n",
       "    </tr>\n",
       "    <tr>\n",
       "      <th>2</th>\n",
       "      <td>Cycling</td>\n",
       "      <td>20</td>\n",
       "      <td>55</td>\n",
       "      <td>2025-08-19</td>\n",
       "      <td>7.0</td>\n",
       "    </tr>\n",
       "    <tr>\n",
       "      <th>3</th>\n",
       "      <td>Yoga</td>\n",
       "      <td>25</td>\n",
       "      <td>30</td>\n",
       "      <td>2025-08-18</td>\n",
       "      <td>0.0</td>\n",
       "    </tr>\n",
       "  </tbody>\n",
       "</table>\n",
       "</div>"
      ],
      "text/plain": [
       "  Activity  Duration  Calories       Date  Distance\n",
       "0  Running        10        75 2025-08-20       1.2\n",
       "1  Running        10        75 2025-08-20       1.2\n",
       "2  Cycling        20        55 2025-08-19       7.0\n",
       "3     Yoga        25        30 2025-08-18       0.0"
      ]
     },
     "execution_count": 6,
     "metadata": {},
     "output_type": "execute_result"
    }
   ],
   "source": [
    "tracker.activities"
   ]
  },
  {
   "cell_type": "code",
   "execution_count": 4,
   "id": "8de8fa7f",
   "metadata": {},
   "outputs": [
    {
     "name": "stdout",
     "output_type": "stream",
     "text": [
      "23.32\n"
     ]
    }
   ],
   "source": [
    "calories_burned = input(\"Enter calories burned: \").strip()\n",
    "if calories_burned.count(\".\") != 1 or not calories_burned.replace(\".\", \"\").isdigit():\n",
    "    print(\"Invalid calories burned. Please enter a positive integer.\")\n",
    "    print(False)\n",
    "else:\n",
    "    print(float(calories_burned))"
   ]
  },
  {
   "cell_type": "code",
   "execution_count": 9,
   "id": "d6f2cc68",
   "metadata": {},
   "outputs": [
    {
     "name": "stdout",
     "output_type": "stream",
     "text": [
      "            Duration  Calories  Distance\n",
      "Date                                    \n",
      "2025-07-27       693      3989     19.83\n",
      "2025-08-03       936      4558     27.34\n",
      "2025-08-10       857      4674     41.66\n",
      "2025-08-17       780      4928     36.81\n",
      "2025-08-24       325      2510     14.93\n",
      "             Duration    Calories  Distance\n",
      "Date                                       \n",
      "2025-07-27  57.750000  332.416667  1.652500\n",
      "2025-08-03  66.857143  325.571429  1.952857\n",
      "2025-08-10  61.214286  333.857143  2.975714\n",
      "2025-08-17  55.714286  352.000000  2.629286\n",
      "2025-08-24  54.166667  418.333333  2.488333\n"
     ]
    }
   ],
   "source": [
    "username = input(\"Enter your username: \")\n",
    "tracker = FitnessTracker(username)\n",
    "\n",
    "weekly_report_1 = tracker.activities.groupby(pd.Grouper(key=\"Date\", freq=\"W\")).agg({\n",
    "    \"Duration\": \"sum\",\n",
    "    \"Calories\": \"sum\",\n",
    "    \"Distance\": \"sum\"\n",
    "})\n",
    "weekly_report_2 = tracker.activities.groupby(pd.Grouper(key=\"Date\", freq=\"W\")).agg({\n",
    "    \"Duration\": \"mean\",\n",
    "    \"Calories\": \"mean\",\n",
    "    \"Distance\": \"mean\"\n",
    "})\n",
    "print(weekly_report_1)\n",
    "print(weekly_report_2)"
   ]
  }
 ],
 "metadata": {
  "kernelspec": {
   "display_name": ".venv (3.13.3)",
   "language": "python",
   "name": "python3"
  },
  "language_info": {
   "codemirror_mode": {
    "name": "ipython",
    "version": 3
   },
   "file_extension": ".py",
   "mimetype": "text/x-python",
   "name": "python",
   "nbconvert_exporter": "python",
   "pygments_lexer": "ipython3",
   "version": "3.13.3"
  }
 },
 "nbformat": 4,
 "nbformat_minor": 5
}
